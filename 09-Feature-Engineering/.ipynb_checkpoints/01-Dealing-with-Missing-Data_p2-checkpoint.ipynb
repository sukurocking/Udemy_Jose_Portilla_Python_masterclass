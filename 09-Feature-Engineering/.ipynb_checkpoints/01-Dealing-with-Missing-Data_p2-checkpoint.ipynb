{
 "cells": [
  {
   "cell_type": "code",
   "execution_count": 2,
   "id": "f56b8b53",
   "metadata": {},
   "outputs": [],
   "source": [
    "import pandas as pd\n",
    "import numpy as np\n",
    "import seaborn as sns\n",
    "import matplotlib.pyplot as plt"
   ]
  },
  {
   "cell_type": "code",
   "execution_count": 3,
   "id": "e89d9088",
   "metadata": {},
   "outputs": [],
   "source": [
    "df = pd.read_csv(\"../DATA/Ames_outliers_removed.csv\")"
   ]
  },
  {
   "cell_type": "code",
   "execution_count": 4,
   "id": "9374dbf5",
   "metadata": {},
   "outputs": [
    {
     "data": {
      "text/html": [
       "<div>\n",
       "<style scoped>\n",
       "    .dataframe tbody tr th:only-of-type {\n",
       "        vertical-align: middle;\n",
       "    }\n",
       "\n",
       "    .dataframe tbody tr th {\n",
       "        vertical-align: top;\n",
       "    }\n",
       "\n",
       "    .dataframe thead th {\n",
       "        text-align: right;\n",
       "    }\n",
       "</style>\n",
       "<table border=\"1\" class=\"dataframe\">\n",
       "  <thead>\n",
       "    <tr style=\"text-align: right;\">\n",
       "      <th></th>\n",
       "      <th>PID</th>\n",
       "      <th>MS SubClass</th>\n",
       "      <th>MS Zoning</th>\n",
       "      <th>Lot Frontage</th>\n",
       "      <th>Lot Area</th>\n",
       "      <th>Street</th>\n",
       "      <th>Alley</th>\n",
       "      <th>Lot Shape</th>\n",
       "      <th>Land Contour</th>\n",
       "      <th>Utilities</th>\n",
       "      <th>...</th>\n",
       "      <th>Pool Area</th>\n",
       "      <th>Pool QC</th>\n",
       "      <th>Fence</th>\n",
       "      <th>Misc Feature</th>\n",
       "      <th>Misc Val</th>\n",
       "      <th>Mo Sold</th>\n",
       "      <th>Yr Sold</th>\n",
       "      <th>Sale Type</th>\n",
       "      <th>Sale Condition</th>\n",
       "      <th>SalePrice</th>\n",
       "    </tr>\n",
       "  </thead>\n",
       "  <tbody>\n",
       "    <tr>\n",
       "      <th>0</th>\n",
       "      <td>526301100</td>\n",
       "      <td>20</td>\n",
       "      <td>RL</td>\n",
       "      <td>141.0</td>\n",
       "      <td>31770</td>\n",
       "      <td>Pave</td>\n",
       "      <td>NaN</td>\n",
       "      <td>IR1</td>\n",
       "      <td>Lvl</td>\n",
       "      <td>AllPub</td>\n",
       "      <td>...</td>\n",
       "      <td>0</td>\n",
       "      <td>NaN</td>\n",
       "      <td>NaN</td>\n",
       "      <td>NaN</td>\n",
       "      <td>0</td>\n",
       "      <td>5</td>\n",
       "      <td>2010</td>\n",
       "      <td>WD</td>\n",
       "      <td>Normal</td>\n",
       "      <td>215000</td>\n",
       "    </tr>\n",
       "    <tr>\n",
       "      <th>1</th>\n",
       "      <td>526350040</td>\n",
       "      <td>20</td>\n",
       "      <td>RH</td>\n",
       "      <td>80.0</td>\n",
       "      <td>11622</td>\n",
       "      <td>Pave</td>\n",
       "      <td>NaN</td>\n",
       "      <td>Reg</td>\n",
       "      <td>Lvl</td>\n",
       "      <td>AllPub</td>\n",
       "      <td>...</td>\n",
       "      <td>0</td>\n",
       "      <td>NaN</td>\n",
       "      <td>MnPrv</td>\n",
       "      <td>NaN</td>\n",
       "      <td>0</td>\n",
       "      <td>6</td>\n",
       "      <td>2010</td>\n",
       "      <td>WD</td>\n",
       "      <td>Normal</td>\n",
       "      <td>105000</td>\n",
       "    </tr>\n",
       "    <tr>\n",
       "      <th>2</th>\n",
       "      <td>526351010</td>\n",
       "      <td>20</td>\n",
       "      <td>RL</td>\n",
       "      <td>81.0</td>\n",
       "      <td>14267</td>\n",
       "      <td>Pave</td>\n",
       "      <td>NaN</td>\n",
       "      <td>IR1</td>\n",
       "      <td>Lvl</td>\n",
       "      <td>AllPub</td>\n",
       "      <td>...</td>\n",
       "      <td>0</td>\n",
       "      <td>NaN</td>\n",
       "      <td>NaN</td>\n",
       "      <td>Gar2</td>\n",
       "      <td>12500</td>\n",
       "      <td>6</td>\n",
       "      <td>2010</td>\n",
       "      <td>WD</td>\n",
       "      <td>Normal</td>\n",
       "      <td>172000</td>\n",
       "    </tr>\n",
       "    <tr>\n",
       "      <th>3</th>\n",
       "      <td>526353030</td>\n",
       "      <td>20</td>\n",
       "      <td>RL</td>\n",
       "      <td>93.0</td>\n",
       "      <td>11160</td>\n",
       "      <td>Pave</td>\n",
       "      <td>NaN</td>\n",
       "      <td>Reg</td>\n",
       "      <td>Lvl</td>\n",
       "      <td>AllPub</td>\n",
       "      <td>...</td>\n",
       "      <td>0</td>\n",
       "      <td>NaN</td>\n",
       "      <td>NaN</td>\n",
       "      <td>NaN</td>\n",
       "      <td>0</td>\n",
       "      <td>4</td>\n",
       "      <td>2010</td>\n",
       "      <td>WD</td>\n",
       "      <td>Normal</td>\n",
       "      <td>244000</td>\n",
       "    </tr>\n",
       "    <tr>\n",
       "      <th>4</th>\n",
       "      <td>527105010</td>\n",
       "      <td>60</td>\n",
       "      <td>RL</td>\n",
       "      <td>74.0</td>\n",
       "      <td>13830</td>\n",
       "      <td>Pave</td>\n",
       "      <td>NaN</td>\n",
       "      <td>IR1</td>\n",
       "      <td>Lvl</td>\n",
       "      <td>AllPub</td>\n",
       "      <td>...</td>\n",
       "      <td>0</td>\n",
       "      <td>NaN</td>\n",
       "      <td>MnPrv</td>\n",
       "      <td>NaN</td>\n",
       "      <td>0</td>\n",
       "      <td>3</td>\n",
       "      <td>2010</td>\n",
       "      <td>WD</td>\n",
       "      <td>Normal</td>\n",
       "      <td>189900</td>\n",
       "    </tr>\n",
       "  </tbody>\n",
       "</table>\n",
       "<p>5 rows × 81 columns</p>\n",
       "</div>"
      ],
      "text/plain": [
       "         PID  MS SubClass MS Zoning  Lot Frontage  Lot Area Street Alley  \\\n",
       "0  526301100           20        RL         141.0     31770   Pave   NaN   \n",
       "1  526350040           20        RH          80.0     11622   Pave   NaN   \n",
       "2  526351010           20        RL          81.0     14267   Pave   NaN   \n",
       "3  526353030           20        RL          93.0     11160   Pave   NaN   \n",
       "4  527105010           60        RL          74.0     13830   Pave   NaN   \n",
       "\n",
       "  Lot Shape Land Contour Utilities  ... Pool Area Pool QC  Fence Misc Feature  \\\n",
       "0       IR1          Lvl    AllPub  ...         0     NaN    NaN          NaN   \n",
       "1       Reg          Lvl    AllPub  ...         0     NaN  MnPrv          NaN   \n",
       "2       IR1          Lvl    AllPub  ...         0     NaN    NaN         Gar2   \n",
       "3       Reg          Lvl    AllPub  ...         0     NaN    NaN          NaN   \n",
       "4       IR1          Lvl    AllPub  ...         0     NaN  MnPrv          NaN   \n",
       "\n",
       "  Misc Val Mo Sold Yr Sold  Sale Type  Sale Condition  SalePrice  \n",
       "0        0       5    2010        WD           Normal     215000  \n",
       "1        0       6    2010        WD           Normal     105000  \n",
       "2    12500       6    2010        WD           Normal     172000  \n",
       "3        0       4    2010        WD           Normal     244000  \n",
       "4        0       3    2010        WD           Normal     189900  \n",
       "\n",
       "[5 rows x 81 columns]"
      ]
     },
     "execution_count": 4,
     "metadata": {},
     "output_type": "execute_result"
    }
   ],
   "source": [
    "df.head()"
   ]
  },
  {
   "cell_type": "code",
   "execution_count": 5,
   "id": "6380f27b",
   "metadata": {},
   "outputs": [
    {
     "name": "stdout",
     "output_type": "stream",
     "text": [
      "<class 'pandas.core.frame.DataFrame'>\n",
      "RangeIndex: 2927 entries, 0 to 2926\n",
      "Data columns (total 81 columns):\n",
      " #   Column           Non-Null Count  Dtype  \n",
      "---  ------           --------------  -----  \n",
      " 0   PID              2927 non-null   int64  \n",
      " 1   MS SubClass      2927 non-null   int64  \n",
      " 2   MS Zoning        2927 non-null   object \n",
      " 3   Lot Frontage     2437 non-null   float64\n",
      " 4   Lot Area         2927 non-null   int64  \n",
      " 5   Street           2927 non-null   object \n",
      " 6   Alley            198 non-null    object \n",
      " 7   Lot Shape        2927 non-null   object \n",
      " 8   Land Contour     2927 non-null   object \n",
      " 9   Utilities        2927 non-null   object \n",
      " 10  Lot Config       2927 non-null   object \n",
      " 11  Land Slope       2927 non-null   object \n",
      " 12  Neighborhood     2927 non-null   object \n",
      " 13  Condition 1      2927 non-null   object \n",
      " 14  Condition 2      2927 non-null   object \n",
      " 15  Bldg Type        2927 non-null   object \n",
      " 16  House Style      2927 non-null   object \n",
      " 17  Overall Qual     2927 non-null   int64  \n",
      " 18  Overall Cond     2927 non-null   int64  \n",
      " 19  Year Built       2927 non-null   int64  \n",
      " 20  Year Remod/Add   2927 non-null   int64  \n",
      " 21  Roof Style       2927 non-null   object \n",
      " 22  Roof Matl        2927 non-null   object \n",
      " 23  Exterior 1st     2927 non-null   object \n",
      " 24  Exterior 2nd     2927 non-null   object \n",
      " 25  Mas Vnr Type     2904 non-null   object \n",
      " 26  Mas Vnr Area     2904 non-null   float64\n",
      " 27  Exter Qual       2927 non-null   object \n",
      " 28  Exter Cond       2927 non-null   object \n",
      " 29  Foundation       2927 non-null   object \n",
      " 30  Bsmt Qual        2847 non-null   object \n",
      " 31  Bsmt Cond        2847 non-null   object \n",
      " 32  Bsmt Exposure    2844 non-null   object \n",
      " 33  BsmtFin Type 1   2847 non-null   object \n",
      " 34  BsmtFin SF 1     2926 non-null   float64\n",
      " 35  BsmtFin Type 2   2846 non-null   object \n",
      " 36  BsmtFin SF 2     2926 non-null   float64\n",
      " 37  Bsmt Unf SF      2926 non-null   float64\n",
      " 38  Total Bsmt SF    2926 non-null   float64\n",
      " 39  Heating          2927 non-null   object \n",
      " 40  Heating QC       2927 non-null   object \n",
      " 41  Central Air      2927 non-null   object \n",
      " 42  Electrical       2926 non-null   object \n",
      " 43  1st Flr SF       2927 non-null   int64  \n",
      " 44  2nd Flr SF       2927 non-null   int64  \n",
      " 45  Low Qual Fin SF  2927 non-null   int64  \n",
      " 46  Gr Liv Area      2927 non-null   int64  \n",
      " 47  Bsmt Full Bath   2925 non-null   float64\n",
      " 48  Bsmt Half Bath   2925 non-null   float64\n",
      " 49  Full Bath        2927 non-null   int64  \n",
      " 50  Half Bath        2927 non-null   int64  \n",
      " 51  Bedroom AbvGr    2927 non-null   int64  \n",
      " 52  Kitchen AbvGr    2927 non-null   int64  \n",
      " 53  Kitchen Qual     2927 non-null   object \n",
      " 54  TotRms AbvGrd    2927 non-null   int64  \n",
      " 55  Functional       2927 non-null   object \n",
      " 56  Fireplaces       2927 non-null   int64  \n",
      " 57  Fireplace Qu     1505 non-null   object \n",
      " 58  Garage Type      2770 non-null   object \n",
      " 59  Garage Yr Blt    2768 non-null   float64\n",
      " 60  Garage Finish    2768 non-null   object \n",
      " 61  Garage Cars      2926 non-null   float64\n",
      " 62  Garage Area      2926 non-null   float64\n",
      " 63  Garage Qual      2768 non-null   object \n",
      " 64  Garage Cond      2768 non-null   object \n",
      " 65  Paved Drive      2927 non-null   object \n",
      " 66  Wood Deck SF     2927 non-null   int64  \n",
      " 67  Open Porch SF    2927 non-null   int64  \n",
      " 68  Enclosed Porch   2927 non-null   int64  \n",
      " 69  3Ssn Porch       2927 non-null   int64  \n",
      " 70  Screen Porch     2927 non-null   int64  \n",
      " 71  Pool Area        2927 non-null   int64  \n",
      " 72  Pool QC          12 non-null     object \n",
      " 73  Fence            572 non-null    object \n",
      " 74  Misc Feature     105 non-null    object \n",
      " 75  Misc Val         2927 non-null   int64  \n",
      " 76  Mo Sold          2927 non-null   int64  \n",
      " 77  Yr Sold          2927 non-null   int64  \n",
      " 78  Sale Type        2927 non-null   object \n",
      " 79  Sale Condition   2927 non-null   object \n",
      " 80  SalePrice        2927 non-null   int64  \n",
      "dtypes: float64(11), int64(27), object(43)\n",
      "memory usage: 1.8+ MB\n"
     ]
    }
   ],
   "source": [
    "df.info()"
   ]
  },
  {
   "cell_type": "markdown",
   "id": "05cf1a10",
   "metadata": {},
   "source": [
    "### Finding the percentage of missing values columnwise"
   ]
  },
  {
   "cell_type": "code",
   "execution_count": 6,
   "id": "762c7bb4",
   "metadata": {},
   "outputs": [
    {
     "data": {
      "text/plain": [
       "PID                 0\n",
       "MS SubClass         0\n",
       "MS Zoning           0\n",
       "Lot Frontage      490\n",
       "Lot Area            0\n",
       "                 ... \n",
       "Mo Sold             0\n",
       "Yr Sold             0\n",
       "Sale Type           0\n",
       "Sale Condition      0\n",
       "SalePrice           0\n",
       "Length: 81, dtype: int64"
      ]
     },
     "execution_count": 6,
     "metadata": {},
     "output_type": "execute_result"
    }
   ],
   "source": [
    "df.isnull().sum()"
   ]
  },
  {
   "cell_type": "code",
   "execution_count": 7,
   "id": "f43469b7",
   "metadata": {},
   "outputs": [],
   "source": [
    "percent_nan = 100* df.isnull().sum()/df.shape[0]"
   ]
  },
  {
   "cell_type": "code",
   "execution_count": 8,
   "id": "80e291ef",
   "metadata": {},
   "outputs": [
    {
     "data": {
      "text/plain": [
       "PID                0.00000\n",
       "MS SubClass        0.00000\n",
       "MS Zoning          0.00000\n",
       "Lot Frontage      16.74069\n",
       "Lot Area           0.00000\n",
       "                    ...   \n",
       "Mo Sold            0.00000\n",
       "Yr Sold            0.00000\n",
       "Sale Type          0.00000\n",
       "Sale Condition     0.00000\n",
       "SalePrice          0.00000\n",
       "Length: 81, dtype: float64"
      ]
     },
     "execution_count": 8,
     "metadata": {},
     "output_type": "execute_result"
    }
   ],
   "source": [
    "percent_nan"
   ]
  },
  {
   "cell_type": "code",
   "execution_count": 9,
   "id": "db660223",
   "metadata": {},
   "outputs": [],
   "source": [
    "#Excluding those columns with no missing values and sorting the others\n",
    "percent_nan = percent_nan[percent_nan > 0].sort_values()"
   ]
  },
  {
   "cell_type": "markdown",
   "id": "92e5c141",
   "metadata": {},
   "source": [
    "Now, we will put a threshold value as 1% below which we can consider the rows as the data that can be ignored"
   ]
  },
  {
   "cell_type": "code",
   "execution_count": 10,
   "id": "2132d8f8",
   "metadata": {},
   "outputs": [
    {
     "data": {
      "image/png": "[encoded data removed]",
      "text/plain": [
       "<Figure size 1800x1200 with 1 Axes>"
      ]
     },
     "metadata": {
      "needs_background": "light"
     },
     "output_type": "display_data"
    }
   ],
   "source": [
    "# Representing percent_nan in graphical view\n",
    "plt.figure(figsize=(12,8), dpi=150)\n",
    "sns.barplot(x=percent_nan.index, y=percent_nan)\n",
    "plt.xticks(rotation=90)\n",
    "plt.ylim([0,1]) #Setting 1% missing as threshold value\n",
    "plt.show()"
   ]
  },
  {
   "cell_type": "code",
   "execution_count": 11,
   "id": "438ed83a",
   "metadata": {},
   "outputs": [
    {
     "data": {
      "text/html": [
       "<div>\n",
       "<style scoped>\n",
       "    .dataframe tbody tr th:only-of-type {\n",
       "        vertical-align: middle;\n",
       "    }\n",
       "\n",
       "    .dataframe tbody tr th {\n",
       "        vertical-align: top;\n",
       "    }\n",
       "\n",
       "    .dataframe thead th {\n",
       "        text-align: right;\n",
       "    }\n",
       "</style>\n",
       "<table border=\"1\" class=\"dataframe\">\n",
       "  <thead>\n",
       "    <tr style=\"text-align: right;\">\n",
       "      <th></th>\n",
       "      <th>PID</th>\n",
       "      <th>MS SubClass</th>\n",
       "      <th>MS Zoning</th>\n",
       "      <th>Lot Frontage</th>\n",
       "      <th>Lot Area</th>\n",
       "      <th>Street</th>\n",
       "      <th>Alley</th>\n",
       "      <th>Lot Shape</th>\n",
       "      <th>Land Contour</th>\n",
       "      <th>Utilities</th>\n",
       "      <th>...</th>\n",
       "      <th>Pool Area</th>\n",
       "      <th>Pool QC</th>\n",
       "      <th>Fence</th>\n",
       "      <th>Misc Feature</th>\n",
       "      <th>Misc Val</th>\n",
       "      <th>Mo Sold</th>\n",
       "      <th>Yr Sold</th>\n",
       "      <th>Sale Type</th>\n",
       "      <th>Sale Condition</th>\n",
       "      <th>SalePrice</th>\n",
       "    </tr>\n",
       "  </thead>\n",
       "  <tbody>\n",
       "    <tr>\n",
       "      <th>1576</th>\n",
       "      <td>916386080</td>\n",
       "      <td>80</td>\n",
       "      <td>RL</td>\n",
       "      <td>73.0</td>\n",
       "      <td>9735</td>\n",
       "      <td>Pave</td>\n",
       "      <td>NaN</td>\n",
       "      <td>Reg</td>\n",
       "      <td>Lvl</td>\n",
       "      <td>AllPub</td>\n",
       "      <td>...</td>\n",
       "      <td>0</td>\n",
       "      <td>NaN</td>\n",
       "      <td>NaN</td>\n",
       "      <td>NaN</td>\n",
       "      <td>0</td>\n",
       "      <td>5</td>\n",
       "      <td>2008</td>\n",
       "      <td>WD</td>\n",
       "      <td>Normal</td>\n",
       "      <td>167500</td>\n",
       "    </tr>\n",
       "  </tbody>\n",
       "</table>\n",
       "<p>1 rows × 81 columns</p>\n",
       "</div>"
      ],
      "text/plain": [
       "            PID  MS SubClass MS Zoning  Lot Frontage  Lot Area Street Alley  \\\n",
       "1576  916386080           80        RL          73.0      9735   Pave   NaN   \n",
       "\n",
       "     Lot Shape Land Contour Utilities  ... Pool Area Pool QC Fence  \\\n",
       "1576       Reg          Lvl    AllPub  ...         0     NaN   NaN   \n",
       "\n",
       "     Misc Feature Misc Val Mo Sold Yr Sold  Sale Type  Sale Condition  \\\n",
       "1576          NaN        0       5    2008        WD           Normal   \n",
       "\n",
       "      SalePrice  \n",
       "1576     167500  \n",
       "\n",
       "[1 rows x 81 columns]"
      ]
     },
     "execution_count": 11,
     "metadata": {},
     "output_type": "execute_result"
    }
   ],
   "source": [
    "df[df['Electrical'].isnull()]"
   ]
  },
  {
   "cell_type": "markdown",
   "id": "e356b6f4",
   "metadata": {},
   "source": [
    "As we can see, there is only a single row, having null value for *Electrical* column"
   ]
  },
  {
   "cell_type": "code",
   "execution_count": 12,
   "id": "ef0bcd62",
   "metadata": {},
   "outputs": [
    {
     "data": {
      "text/html": [
       "<div>\n",
       "<style scoped>\n",
       "    .dataframe tbody tr th:only-of-type {\n",
       "        vertical-align: middle;\n",
       "    }\n",
       "\n",
       "    .dataframe tbody tr th {\n",
       "        vertical-align: top;\n",
       "    }\n",
       "\n",
       "    .dataframe thead th {\n",
       "        text-align: right;\n",
       "    }\n",
       "</style>\n",
       "<table border=\"1\" class=\"dataframe\">\n",
       "  <thead>\n",
       "    <tr style=\"text-align: right;\">\n",
       "      <th></th>\n",
       "      <th>PID</th>\n",
       "      <th>MS SubClass</th>\n",
       "      <th>MS Zoning</th>\n",
       "      <th>Lot Frontage</th>\n",
       "      <th>Lot Area</th>\n",
       "      <th>Street</th>\n",
       "      <th>Alley</th>\n",
       "      <th>Lot Shape</th>\n",
       "      <th>Land Contour</th>\n",
       "      <th>Utilities</th>\n",
       "      <th>...</th>\n",
       "      <th>Pool Area</th>\n",
       "      <th>Pool QC</th>\n",
       "      <th>Fence</th>\n",
       "      <th>Misc Feature</th>\n",
       "      <th>Misc Val</th>\n",
       "      <th>Mo Sold</th>\n",
       "      <th>Yr Sold</th>\n",
       "      <th>Sale Type</th>\n",
       "      <th>Sale Condition</th>\n",
       "      <th>SalePrice</th>\n",
       "    </tr>\n",
       "  </thead>\n",
       "  <tbody>\n",
       "    <tr>\n",
       "      <th>2233</th>\n",
       "      <td>910201180</td>\n",
       "      <td>70</td>\n",
       "      <td>RM</td>\n",
       "      <td>50.0</td>\n",
       "      <td>9060</td>\n",
       "      <td>Pave</td>\n",
       "      <td>NaN</td>\n",
       "      <td>Reg</td>\n",
       "      <td>Lvl</td>\n",
       "      <td>AllPub</td>\n",
       "      <td>...</td>\n",
       "      <td>0</td>\n",
       "      <td>NaN</td>\n",
       "      <td>MnPrv</td>\n",
       "      <td>NaN</td>\n",
       "      <td>0</td>\n",
       "      <td>3</td>\n",
       "      <td>2007</td>\n",
       "      <td>WD</td>\n",
       "      <td>Alloca</td>\n",
       "      <td>150909</td>\n",
       "    </tr>\n",
       "  </tbody>\n",
       "</table>\n",
       "<p>1 rows × 81 columns</p>\n",
       "</div>"
      ],
      "text/plain": [
       "            PID  MS SubClass MS Zoning  Lot Frontage  Lot Area Street Alley  \\\n",
       "2233  910201180           70        RM          50.0      9060   Pave   NaN   \n",
       "\n",
       "     Lot Shape Land Contour Utilities  ... Pool Area Pool QC  Fence  \\\n",
       "2233       Reg          Lvl    AllPub  ...         0     NaN  MnPrv   \n",
       "\n",
       "     Misc Feature Misc Val Mo Sold Yr Sold  Sale Type  Sale Condition  \\\n",
       "2233          NaN        0       3    2007        WD           Alloca   \n",
       "\n",
       "      SalePrice  \n",
       "2233     150909  \n",
       "\n",
       "[1 rows x 81 columns]"
      ]
     },
     "execution_count": 12,
     "metadata": {},
     "output_type": "execute_result"
    }
   ],
   "source": [
    "df[df[\"Garage Area\"].isnull()]"
   ]
  },
  {
   "cell_type": "markdown",
   "id": "6f7c82fa",
   "metadata": {},
   "source": [
    "They are different columns. Also, we can notice that Garage Cars is a column, that might be related to Garage Area.\n",
    "This we will investigate"
   ]
  },
  {
   "cell_type": "code",
   "execution_count": 13,
   "id": "f84a09b0",
   "metadata": {},
   "outputs": [
    {
     "data": {
      "text/html": [
       "<div>\n",
       "<style scoped>\n",
       "    .dataframe tbody tr th:only-of-type {\n",
       "        vertical-align: middle;\n",
       "    }\n",
       "\n",
       "    .dataframe tbody tr th {\n",
       "        vertical-align: top;\n",
       "    }\n",
       "\n",
       "    .dataframe thead th {\n",
       "        text-align: right;\n",
       "    }\n",
       "</style>\n",
       "<table border=\"1\" class=\"dataframe\">\n",
       "  <thead>\n",
       "    <tr style=\"text-align: right;\">\n",
       "      <th></th>\n",
       "      <th>PID</th>\n",
       "      <th>MS SubClass</th>\n",
       "      <th>MS Zoning</th>\n",
       "      <th>Lot Frontage</th>\n",
       "      <th>Lot Area</th>\n",
       "      <th>Street</th>\n",
       "      <th>Alley</th>\n",
       "      <th>Lot Shape</th>\n",
       "      <th>Land Contour</th>\n",
       "      <th>Utilities</th>\n",
       "      <th>...</th>\n",
       "      <th>Pool Area</th>\n",
       "      <th>Pool QC</th>\n",
       "      <th>Fence</th>\n",
       "      <th>Misc Feature</th>\n",
       "      <th>Misc Val</th>\n",
       "      <th>Mo Sold</th>\n",
       "      <th>Yr Sold</th>\n",
       "      <th>Sale Type</th>\n",
       "      <th>Sale Condition</th>\n",
       "      <th>SalePrice</th>\n",
       "    </tr>\n",
       "  </thead>\n",
       "  <tbody>\n",
       "    <tr>\n",
       "      <th>2233</th>\n",
       "      <td>910201180</td>\n",
       "      <td>70</td>\n",
       "      <td>RM</td>\n",
       "      <td>50.0</td>\n",
       "      <td>9060</td>\n",
       "      <td>Pave</td>\n",
       "      <td>NaN</td>\n",
       "      <td>Reg</td>\n",
       "      <td>Lvl</td>\n",
       "      <td>AllPub</td>\n",
       "      <td>...</td>\n",
       "      <td>0</td>\n",
       "      <td>NaN</td>\n",
       "      <td>MnPrv</td>\n",
       "      <td>NaN</td>\n",
       "      <td>0</td>\n",
       "      <td>3</td>\n",
       "      <td>2007</td>\n",
       "      <td>WD</td>\n",
       "      <td>Alloca</td>\n",
       "      <td>150909</td>\n",
       "    </tr>\n",
       "  </tbody>\n",
       "</table>\n",
       "<p>1 rows × 81 columns</p>\n",
       "</div>"
      ],
      "text/plain": [
       "            PID  MS SubClass MS Zoning  Lot Frontage  Lot Area Street Alley  \\\n",
       "2233  910201180           70        RM          50.0      9060   Pave   NaN   \n",
       "\n",
       "     Lot Shape Land Contour Utilities  ... Pool Area Pool QC  Fence  \\\n",
       "2233       Reg          Lvl    AllPub  ...         0     NaN  MnPrv   \n",
       "\n",
       "     Misc Feature Misc Val Mo Sold Yr Sold  Sale Type  Sale Condition  \\\n",
       "2233          NaN        0       3    2007        WD           Alloca   \n",
       "\n",
       "      SalePrice  \n",
       "2233     150909  \n",
       "\n",
       "[1 rows x 81 columns]"
      ]
     },
     "execution_count": 13,
     "metadata": {},
     "output_type": "execute_result"
    }
   ],
   "source": [
    "df[df[\"Garage Cars\"].isnull()]"
   ]
  },
  {
   "cell_type": "markdown",
   "id": "088949ce",
   "metadata": {},
   "source": [
    "As we expected, they are the same rows. We will drop these 2 rows (for *Garage Area* and *Electrical*)"
   ]
  },
  {
   "cell_type": "code",
   "execution_count": 14,
   "id": "5d233b0c",
   "metadata": {},
   "outputs": [],
   "source": [
    "ind_to_drop = df[(df[\"Electrical\"].isnull()) | (df[\"Garage Area\"].isnull())].index"
   ]
  },
  {
   "cell_type": "code",
   "execution_count": 15,
   "id": "5a31a2c2",
   "metadata": {},
   "outputs": [
    {
     "data": {
      "text/plain": [
       "Int64Index([1576, 2233], dtype='int64')"
      ]
     },
     "execution_count": 15,
     "metadata": {},
     "output_type": "execute_result"
    }
   ],
   "source": [
    "ind_to_drop"
   ]
  },
  {
   "cell_type": "code",
   "execution_count": 16,
   "id": "c10e5f5d",
   "metadata": {},
   "outputs": [],
   "source": [
    "df = df.drop(ind_to_drop,axis=0)"
   ]
  },
  {
   "cell_type": "code",
   "execution_count": 17,
   "id": "7de2bd9d",
   "metadata": {},
   "outputs": [
    {
     "data": {
      "text/html": [
       "<div>\n",
       "<style scoped>\n",
       "    .dataframe tbody tr th:only-of-type {\n",
       "        vertical-align: middle;\n",
       "    }\n",
       "\n",
       "    .dataframe tbody tr th {\n",
       "        vertical-align: top;\n",
       "    }\n",
       "\n",
       "    .dataframe thead th {\n",
       "        text-align: right;\n",
       "    }\n",
       "</style>\n",
       "<table border=\"1\" class=\"dataframe\">\n",
       "  <thead>\n",
       "    <tr style=\"text-align: right;\">\n",
       "      <th></th>\n",
       "      <th>PID</th>\n",
       "      <th>MS SubClass</th>\n",
       "      <th>MS Zoning</th>\n",
       "      <th>Lot Frontage</th>\n",
       "      <th>Lot Area</th>\n",
       "      <th>Street</th>\n",
       "      <th>Alley</th>\n",
       "      <th>Lot Shape</th>\n",
       "      <th>Land Contour</th>\n",
       "      <th>Utilities</th>\n",
       "      <th>...</th>\n",
       "      <th>Pool Area</th>\n",
       "      <th>Pool QC</th>\n",
       "      <th>Fence</th>\n",
       "      <th>Misc Feature</th>\n",
       "      <th>Misc Val</th>\n",
       "      <th>Mo Sold</th>\n",
       "      <th>Yr Sold</th>\n",
       "      <th>Sale Type</th>\n",
       "      <th>Sale Condition</th>\n",
       "      <th>SalePrice</th>\n",
       "    </tr>\n",
       "  </thead>\n",
       "  <tbody>\n",
       "  </tbody>\n",
       "</table>\n",
       "<p>0 rows × 81 columns</p>\n",
       "</div>"
      ],
      "text/plain": [
       "Empty DataFrame\n",
       "Columns: [PID, MS SubClass, MS Zoning, Lot Frontage, Lot Area, Street, Alley, Lot Shape, Land Contour, Utilities, Lot Config, Land Slope, Neighborhood, Condition 1, Condition 2, Bldg Type, House Style, Overall Qual, Overall Cond, Year Built, Year Remod/Add, Roof Style, Roof Matl, Exterior 1st, Exterior 2nd, Mas Vnr Type, Mas Vnr Area, Exter Qual, Exter Cond, Foundation, Bsmt Qual, Bsmt Cond, Bsmt Exposure, BsmtFin Type 1, BsmtFin SF 1, BsmtFin Type 2, BsmtFin SF 2, Bsmt Unf SF, Total Bsmt SF, Heating, Heating QC, Central Air, Electrical, 1st Flr SF, 2nd Flr SF, Low Qual Fin SF, Gr Liv Area, Bsmt Full Bath, Bsmt Half Bath, Full Bath, Half Bath, Bedroom AbvGr, Kitchen AbvGr, Kitchen Qual, TotRms AbvGrd, Functional, Fireplaces, Fireplace Qu, Garage Type, Garage Yr Blt, Garage Finish, Garage Cars, Garage Area, Garage Qual, Garage Cond, Paved Drive, Wood Deck SF, Open Porch SF, Enclosed Porch, 3Ssn Porch, Screen Porch, Pool Area, Pool QC, Fence, Misc Feature, Misc Val, Mo Sold, Yr Sold, Sale Type, Sale Condition, SalePrice]\n",
       "Index: []\n",
       "\n",
       "[0 rows x 81 columns]"
      ]
     },
     "execution_count": 17,
     "metadata": {},
     "output_type": "execute_result"
    }
   ],
   "source": [
    "df[df[\"Garage Area\"].isnull()]"
   ]
  },
  {
   "cell_type": "markdown",
   "id": "a0d38b2f",
   "metadata": {},
   "source": [
    "We can see that the rows having null values for *Garage Area* and *Electrical* are dropped\n",
    "Now we will compute percent_nan again"
   ]
  },
  {
   "cell_type": "code",
   "execution_count": 18,
   "id": "a39a8d46",
   "metadata": {},
   "outputs": [
    {
     "data": {
      "text/plain": [
       "Bsmt Unf SF        0.034188\n",
       "Total Bsmt SF      0.034188\n",
       "BsmtFin SF 2       0.034188\n",
       "BsmtFin SF 1       0.034188\n",
       "Bsmt Full Bath     0.068376\n",
       "Bsmt Half Bath     0.068376\n",
       "Mas Vnr Type       0.786325\n",
       "Mas Vnr Area       0.786325\n",
       "Bsmt Qual          2.735043\n",
       "Bsmt Cond          2.735043\n",
       "BsmtFin Type 1     2.735043\n",
       "BsmtFin Type 2     2.769231\n",
       "Bsmt Exposure      2.837607\n",
       "Garage Type        5.367521\n",
       "Garage Qual        5.401709\n",
       "Garage Cond        5.401709\n",
       "Garage Finish      5.401709\n",
       "Garage Yr Blt      5.401709\n",
       "Lot Frontage      16.752137\n",
       "Fireplace Qu      48.547009\n",
       "Fence             80.478632\n",
       "Alley             93.230769\n",
       "Misc Feature      96.410256\n",
       "Pool QC           99.589744\n",
       "dtype: float64"
      ]
     },
     "execution_count": 18,
     "metadata": {},
     "output_type": "execute_result"
    }
   ],
   "source": [
    "percent_nan = df.isnull().sum() * 100 / df.shape[0]\n",
    "percent_nan = percent_nan[percent_nan > 0].sort_values()\n",
    "percent_nan"
   ]
  },
  {
   "cell_type": "code",
   "execution_count": 19,
   "id": "2350da39",
   "metadata": {},
   "outputs": [
    {
     "data": {
      "image/png": "[encoded data removed]",
      "text/plain": [
       "<Figure size 1200x800 with 1 Axes>"
      ]
     },
     "metadata": {
      "needs_background": "light"
     },
     "output_type": "display_data"
    }
   ],
   "source": [
    "## Visualizing this percent_nan\n",
    "plt.figure(figsize=(12,8), dpi=100)\n",
    "sns.barplot(x=percent_nan.index, y=percent_nan)\n",
    "plt.xticks(rotation=90)\n",
    "plt.ylim([0,1])  ###Setting the limit for y axis\n",
    "plt.show()"
   ]
  },
  {
   "cell_type": "markdown",
   "id": "af290c27",
   "metadata": {},
   "source": [
    "Now we can see that most of the columns having missing rows below our threshold value of 1% are related to *Basement*\n",
    "Upon checking our data dictionary, we could see that NA stands for no basement\n",
    "\n",
    "NA\tNo Basement"
   ]
  },
  {
   "cell_type": "markdown",
   "id": "23efa21e",
   "metadata": {},
   "source": [
    "For these rows, we should set it the area features to 0"
   ]
  },
  {
   "cell_type": "code",
   "execution_count": 20,
   "id": "86a095ef",
   "metadata": {},
   "outputs": [
    {
     "data": {
      "text/html": [
       "<div>\n",
       "<style scoped>\n",
       "    .dataframe tbody tr th:only-of-type {\n",
       "        vertical-align: middle;\n",
       "    }\n",
       "\n",
       "    .dataframe tbody tr th {\n",
       "        vertical-align: top;\n",
       "    }\n",
       "\n",
       "    .dataframe thead th {\n",
       "        text-align: right;\n",
       "    }\n",
       "</style>\n",
       "<table border=\"1\" class=\"dataframe\">\n",
       "  <thead>\n",
       "    <tr style=\"text-align: right;\">\n",
       "      <th></th>\n",
       "      <th>Bsmt Unf SF</th>\n",
       "      <th>Total Bsmt SF</th>\n",
       "      <th>BsmtFin SF 2</th>\n",
       "      <th>Bsmt Qual</th>\n",
       "    </tr>\n",
       "  </thead>\n",
       "  <tbody>\n",
       "    <tr>\n",
       "      <th>1341</th>\n",
       "      <td>NaN</td>\n",
       "      <td>NaN</td>\n",
       "      <td>NaN</td>\n",
       "      <td>NaN</td>\n",
       "    </tr>\n",
       "  </tbody>\n",
       "</table>\n",
       "</div>"
      ],
      "text/plain": [
       "      Bsmt Unf SF  Total Bsmt SF  BsmtFin SF 2 Bsmt Qual\n",
       "1341          NaN            NaN           NaN       NaN"
      ]
     },
     "execution_count": 20,
     "metadata": {},
     "output_type": "execute_result"
    }
   ],
   "source": [
    "df.loc[df['Bsmt Unf SF'].isnull(), [\"Bsmt Unf SF\", \"Total Bsmt SF\", \"BsmtFin SF 2\", \"Bsmt Qual\"]]"
   ]
  },
  {
   "cell_type": "code",
   "execution_count": 21,
   "id": "4e094f65",
   "metadata": {},
   "outputs": [
    {
     "data": {
      "text/html": [
       "<div>\n",
       "<style scoped>\n",
       "    .dataframe tbody tr th:only-of-type {\n",
       "        vertical-align: middle;\n",
       "    }\n",
       "\n",
       "    .dataframe tbody tr th {\n",
       "        vertical-align: top;\n",
       "    }\n",
       "\n",
       "    .dataframe thead th {\n",
       "        text-align: right;\n",
       "    }\n",
       "</style>\n",
       "<table border=\"1\" class=\"dataframe\">\n",
       "  <thead>\n",
       "    <tr style=\"text-align: right;\">\n",
       "      <th></th>\n",
       "      <th>Bsmt Unf SF</th>\n",
       "      <th>Total Bsmt SF</th>\n",
       "      <th>BsmtFin SF 2</th>\n",
       "      <th>Bsmt Qual</th>\n",
       "    </tr>\n",
       "  </thead>\n",
       "  <tbody>\n",
       "    <tr>\n",
       "      <th>1341</th>\n",
       "      <td>NaN</td>\n",
       "      <td>NaN</td>\n",
       "      <td>NaN</td>\n",
       "      <td>NaN</td>\n",
       "    </tr>\n",
       "    <tr>\n",
       "      <th>1497</th>\n",
       "      <td>0.0</td>\n",
       "      <td>0.0</td>\n",
       "      <td>0.0</td>\n",
       "      <td>NaN</td>\n",
       "    </tr>\n",
       "  </tbody>\n",
       "</table>\n",
       "</div>"
      ],
      "text/plain": [
       "      Bsmt Unf SF  Total Bsmt SF  BsmtFin SF 2 Bsmt Qual\n",
       "1341          NaN            NaN           NaN       NaN\n",
       "1497          0.0            0.0           0.0       NaN"
      ]
     },
     "execution_count": 21,
     "metadata": {},
     "output_type": "execute_result"
    }
   ],
   "source": [
    "df.loc[df['Bsmt Full Bath'].isnull(), [\"Bsmt Unf SF\", \"Total Bsmt SF\", \"BsmtFin SF 2\", \"Bsmt Qual\"]]"
   ]
  },
  {
   "cell_type": "code",
   "execution_count": 22,
   "id": "32d200bb",
   "metadata": {},
   "outputs": [
    {
     "data": {
      "text/html": [
       "<div>\n",
       "<style scoped>\n",
       "    .dataframe tbody tr th:only-of-type {\n",
       "        vertical-align: middle;\n",
       "    }\n",
       "\n",
       "    .dataframe tbody tr th {\n",
       "        vertical-align: top;\n",
       "    }\n",
       "\n",
       "    .dataframe thead th {\n",
       "        text-align: right;\n",
       "    }\n",
       "</style>\n",
       "<table border=\"1\" class=\"dataframe\">\n",
       "  <thead>\n",
       "    <tr style=\"text-align: right;\">\n",
       "      <th></th>\n",
       "      <th>Bsmt Unf SF</th>\n",
       "      <th>Total Bsmt SF</th>\n",
       "      <th>BsmtFin SF 2</th>\n",
       "      <th>Bsmt Qual</th>\n",
       "    </tr>\n",
       "  </thead>\n",
       "  <tbody>\n",
       "    <tr>\n",
       "      <th>1341</th>\n",
       "      <td>NaN</td>\n",
       "      <td>NaN</td>\n",
       "      <td>NaN</td>\n",
       "      <td>NaN</td>\n",
       "    </tr>\n",
       "    <tr>\n",
       "      <th>1497</th>\n",
       "      <td>0.0</td>\n",
       "      <td>0.0</td>\n",
       "      <td>0.0</td>\n",
       "      <td>NaN</td>\n",
       "    </tr>\n",
       "  </tbody>\n",
       "</table>\n",
       "</div>"
      ],
      "text/plain": [
       "      Bsmt Unf SF  Total Bsmt SF  BsmtFin SF 2 Bsmt Qual\n",
       "1341          NaN            NaN           NaN       NaN\n",
       "1497          0.0            0.0           0.0       NaN"
      ]
     },
     "execution_count": 22,
     "metadata": {},
     "output_type": "execute_result"
    }
   ],
   "source": [
    "df.loc[df['Bsmt Half Bath'].isnull(), [\"Bsmt Unf SF\", \"Total Bsmt SF\", \"BsmtFin SF 2\", \"Bsmt Qual\"]]"
   ]
  },
  {
   "cell_type": "code",
   "execution_count": 23,
   "id": "4fe91337",
   "metadata": {},
   "outputs": [],
   "source": [
    "#Basement values To be set to zero for those rows where there is no basement\n",
    "basement_to_be_zero_columns = [\"Bsmt Unf SF\",\"Total Bsmt SF\", \"BsmtFin SF 1\", \"BsmtFin SF 2\", \"Bsmt Full Bath\", \"Bsmt Half Bath\"]\n",
    "df[basement_to_be_zero_columns] = df[basement_to_be_zero_columns].fillna(0)"
   ]
  },
  {
   "cell_type": "code",
   "execution_count": 24,
   "id": "cbefa423",
   "metadata": {},
   "outputs": [
    {
     "data": {
      "text/plain": [
       "Mas Vnr Type       0.786325\n",
       "Mas Vnr Area       0.786325\n",
       "Bsmt Qual          2.735043\n",
       "Bsmt Cond          2.735043\n",
       "BsmtFin Type 1     2.735043\n",
       "BsmtFin Type 2     2.769231\n",
       "Bsmt Exposure      2.837607\n",
       "Garage Type        5.367521\n",
       "Garage Cond        5.401709\n",
       "Garage Qual        5.401709\n",
       "Garage Finish      5.401709\n",
       "Garage Yr Blt      5.401709\n",
       "Lot Frontage      16.752137\n",
       "Fireplace Qu      48.547009\n",
       "Fence             80.478632\n",
       "Alley             93.230769\n",
       "Misc Feature      96.410256\n",
       "Pool QC           99.589744\n",
       "dtype: float64"
      ]
     },
     "execution_count": 24,
     "metadata": {},
     "output_type": "execute_result"
    }
   ],
   "source": [
    "#Computing the percent_nan again\n",
    "percent_nan = 100 * df.isnull().sum()/df.shape[0]\n",
    "percent_nan = percent_nan[percent_nan > 0].sort_values()\n",
    "percent_nan"
   ]
  },
  {
   "cell_type": "markdown",
   "id": "dd0239e4",
   "metadata": {},
   "source": [
    "As we can see above, those columns are not having null values anymore"
   ]
  },
  {
   "cell_type": "code",
   "execution_count": 25,
   "id": "d4f7c82e",
   "metadata": {},
   "outputs": [
    {
     "data": {
      "image/png": "[encoded data removed]",
      "text/plain": [
       "<Figure size 1000x700 with 1 Axes>"
      ]
     },
     "metadata": {
      "needs_background": "light"
     },
     "output_type": "display_data"
    }
   ],
   "source": [
    "plt.figure(figsize=(10,7), dpi=100)\n",
    "sns.barplot(x=percent_nan.index, y=percent_nan)\n",
    "plt.xticks(rotation=90)\n",
    "plt.ylim([0,1])\n",
    "plt.show()"
   ]
  },
  {
   "cell_type": "code",
   "execution_count": 26,
   "id": "19af2fcf",
   "metadata": {},
   "outputs": [
    {
     "data": {
      "text/plain": [
       "Mas Vnr Type\n",
       "BrkCmn       25\n",
       "BrkFace     880\n",
       "CBlock        1\n",
       "None       1750\n",
       "Stone       246\n",
       "Name: PID, dtype: int64"
      ]
     },
     "execution_count": 26,
     "metadata": {},
     "output_type": "execute_result"
    }
   ],
   "source": [
    "df.groupby(\"Mas Vnr Type\").count()[\"PID\"]"
   ]
  },
  {
   "cell_type": "code",
   "execution_count": 27,
   "id": "17ab5bcf",
   "metadata": {},
   "outputs": [
    {
     "data": {
      "text/plain": [
       "2902"
      ]
     },
     "execution_count": 27,
     "metadata": {},
     "output_type": "execute_result"
    }
   ],
   "source": [
    "25 + 880 + 1 + 1750 + 246"
   ]
  },
  {
   "cell_type": "markdown",
   "id": "e49f1875",
   "metadata": {},
   "source": [
    "Assuming *Mas Vnr Type* column values to be None for those that having missing values\n",
    "Assuming *Mas Vnr Area* column values to be 0 for the rows having missing values"
   ]
  },
  {
   "cell_type": "code",
   "execution_count": 28,
   "id": "39cfedfc",
   "metadata": {},
   "outputs": [
    {
     "data": {
      "text/plain": [
       "(23, 81)"
      ]
     },
     "execution_count": 28,
     "metadata": {},
     "output_type": "execute_result"
    }
   ],
   "source": [
    "#Exact number of rows having missing values in Mas Vnr Area or Mas Vnr Type\n",
    "df.loc[df[\"Mas Vnr Area\"].isnull()].shape"
   ]
  },
  {
   "cell_type": "code",
   "execution_count": 29,
   "id": "b1f78085",
   "metadata": {},
   "outputs": [
    {
     "data": {
      "text/plain": [
       "array([nan], dtype=object)"
      ]
     },
     "execution_count": 29,
     "metadata": {},
     "output_type": "execute_result"
    }
   ],
   "source": [
    "df.loc[df[\"Mas Vnr Area\"].isnull(), [\"Mas Vnr Type\"]][\"Mas Vnr Type\"].unique()"
   ]
  },
  {
   "cell_type": "code",
   "execution_count": 30,
   "id": "2bb17f32",
   "metadata": {},
   "outputs": [],
   "source": [
    "df[\"Mas Vnr Type\"]=df[\"Mas Vnr Type\"].fillna(\"None\")\n",
    "df[\"Mas Vnr Area\"]=df[\"Mas Vnr Area\"].fillna(0)"
   ]
  },
  {
   "cell_type": "code",
   "execution_count": 31,
   "id": "d631e1a1",
   "metadata": {},
   "outputs": [
    {
     "data": {
      "text/plain": [
       "Bsmt Qual          2.735043\n",
       "Bsmt Cond          2.735043\n",
       "BsmtFin Type 1     2.735043\n",
       "BsmtFin Type 2     2.769231\n",
       "Bsmt Exposure      2.837607\n",
       "Garage Type        5.367521\n",
       "Garage Yr Blt      5.401709\n",
       "Garage Finish      5.401709\n",
       "Garage Qual        5.401709\n",
       "Garage Cond        5.401709\n",
       "Lot Frontage      16.752137\n",
       "Fireplace Qu      48.547009\n",
       "Fence             80.478632\n",
       "Alley             93.230769\n",
       "Misc Feature      96.410256\n",
       "Pool QC           99.589744\n",
       "dtype: float64"
      ]
     },
     "execution_count": 31,
     "metadata": {},
     "output_type": "execute_result"
    }
   ],
   "source": [
    "#Computing the percent_nan again\n",
    "percent_nan = 100 * df.isnull().sum()/df.shape[0]\n",
    "percent_nan = percent_nan[percent_nan > 0].sort_values()\n",
    "percent_nan"
   ]
  },
  {
   "cell_type": "code",
   "execution_count": 32,
   "id": "f24c1ff3",
   "metadata": {},
   "outputs": [
    {
     "data": {
      "image/png": "[encoded data removed]",
      "text/plain": [
       "<Figure size 1000x700 with 1 Axes>"
      ]
     },
     "metadata": {
      "needs_background": "light"
     },
     "output_type": "display_data"
    }
   ],
   "source": [
    "plt.figure(figsize=(10,7), dpi=100)\n",
    "sns.barplot(x=percent_nan.index, y=percent_nan)\n",
    "plt.xticks(rotation=90)\n",
    "plt.ylim([0,1])\n",
    "plt.show()"
   ]
  },
  {
   "cell_type": "markdown",
   "id": "f590aff3",
   "metadata": {},
   "source": [
    "Now we will deal with those columns that have too high number of missing values"
   ]
  },
  {
   "cell_type": "code",
   "execution_count": 33,
   "id": "756b0b9b",
   "metadata": {},
   "outputs": [],
   "source": [
    "#Should there be a threshold limit for this as well, where the number of missing values are significantly high?"
   ]
  },
  {
   "cell_type": "code",
   "execution_count": 34,
   "id": "5a73beea",
   "metadata": {},
   "outputs": [
    {
     "data": {
      "text/plain": [
       "Ex    4\n",
       "Gd    3\n",
       "TA    3\n",
       "Fa    2\n",
       "Name: Pool QC, dtype: int64"
      ]
     },
     "execution_count": 34,
     "metadata": {},
     "output_type": "execute_result"
    }
   ],
   "source": [
    "df[\"Pool QC\"].value_counts()"
   ]
  },
  {
   "cell_type": "code",
   "execution_count": 35,
   "id": "4a6f2f22",
   "metadata": {},
   "outputs": [
    {
     "data": {
      "text/plain": [
       "array([0])"
      ]
     },
     "execution_count": 35,
     "metadata": {},
     "output_type": "execute_result"
    }
   ],
   "source": [
    "df[df[\"Pool QC\"].isnull()][\"Pool Area\"].unique()"
   ]
  },
  {
   "cell_type": "code",
   "execution_count": 36,
   "id": "1b58e7bf",
   "metadata": {},
   "outputs": [
    {
     "data": {
      "text/plain": [
       "0       0\n",
       "1       0\n",
       "2       0\n",
       "3       0\n",
       "4       0\n",
       "       ..\n",
       "2922    0\n",
       "2923    0\n",
       "2924    0\n",
       "2925    0\n",
       "2926    0\n",
       "Name: Pool Area, Length: 2913, dtype: int64"
      ]
     },
     "execution_count": 36,
     "metadata": {},
     "output_type": "execute_result"
    }
   ],
   "source": [
    "df.loc[df[\"Pool QC\"].isnull(), \"Pool Area\"]"
   ]
  },
  {
   "cell_type": "code",
   "execution_count": 37,
   "id": "cf13e70d",
   "metadata": {},
   "outputs": [
    {
     "data": {
      "text/plain": [
       "0       0\n",
       "1       0\n",
       "3       0\n",
       "4       0\n",
       "5       0\n",
       "       ..\n",
       "2921    0\n",
       "2922    0\n",
       "2923    0\n",
       "2925    0\n",
       "2926    0\n",
       "Name: Misc Val, Length: 2820, dtype: int64"
      ]
     },
     "execution_count": 37,
     "metadata": {},
     "output_type": "execute_result"
    }
   ],
   "source": [
    "df.loc[df[\"Misc Feature\"].isnull(), \"Misc Val\"]"
   ]
  },
  {
   "cell_type": "code",
   "execution_count": 38,
   "id": "46916027",
   "metadata": {},
   "outputs": [
    {
     "data": {
      "text/plain": [
       "array([0])"
      ]
     },
     "execution_count": 38,
     "metadata": {},
     "output_type": "execute_result"
    }
   ],
   "source": [
    "df[df[\"Misc Feature\"].isnull()][\"Misc Val\"].unique()"
   ]
  },
  {
   "cell_type": "code",
   "execution_count": 39,
   "id": "393dd026",
   "metadata": {},
   "outputs": [],
   "source": [
    "df[\"Pool QC\"]=df[\"Pool QC\"].fillna(\"None\")\n",
    "df[\"Misc Feature\"]=df[\"Misc Feature\"].fillna(\"None\")"
   ]
  },
  {
   "cell_type": "code",
   "execution_count": 40,
   "id": "9536158d",
   "metadata": {},
   "outputs": [
    {
     "data": {
      "text/plain": [
       "Bsmt Qual          2.735043\n",
       "Bsmt Cond          2.735043\n",
       "BsmtFin Type 1     2.735043\n",
       "BsmtFin Type 2     2.769231\n",
       "Bsmt Exposure      2.837607\n",
       "Garage Type        5.367521\n",
       "Garage Yr Blt      5.401709\n",
       "Garage Finish      5.401709\n",
       "Garage Qual        5.401709\n",
       "Garage Cond        5.401709\n",
       "Lot Frontage      16.752137\n",
       "Fireplace Qu      48.547009\n",
       "Fence             80.478632\n",
       "Alley             93.230769\n",
       "dtype: float64"
      ]
     },
     "execution_count": 40,
     "metadata": {},
     "output_type": "execute_result"
    }
   ],
   "source": [
    "#Computing the percent_nan again\n",
    "percent_nan = 100 * df.isnull().sum()/df.shape[0]\n",
    "percent_nan = percent_nan[percent_nan > 0].sort_values()\n",
    "percent_nan"
   ]
  },
  {
   "cell_type": "code",
   "execution_count": 41,
   "id": "9ebad6cd",
   "metadata": {},
   "outputs": [],
   "source": [
    "df[\"Alley\"]=df[\"Alley\"].fillna(\"None\")"
   ]
  },
  {
   "cell_type": "code",
   "execution_count": 42,
   "id": "fd60892b",
   "metadata": {},
   "outputs": [],
   "source": [
    "df[\"Fence\"]=df[\"Fence\"].fillna(\"None\")"
   ]
  },
  {
   "cell_type": "code",
   "execution_count": 43,
   "id": "d63a8b6f",
   "metadata": {},
   "outputs": [
    {
     "data": {
      "text/plain": [
       "Bsmt Qual          2.735043\n",
       "Bsmt Cond          2.735043\n",
       "BsmtFin Type 1     2.735043\n",
       "BsmtFin Type 2     2.769231\n",
       "Bsmt Exposure      2.837607\n",
       "Garage Type        5.367521\n",
       "Garage Yr Blt      5.401709\n",
       "Garage Finish      5.401709\n",
       "Garage Qual        5.401709\n",
       "Garage Cond        5.401709\n",
       "Lot Frontage      16.752137\n",
       "Fireplace Qu      48.547009\n",
       "dtype: float64"
      ]
     },
     "execution_count": 43,
     "metadata": {},
     "output_type": "execute_result"
    }
   ],
   "source": [
    "#Computing the percent_nan again\n",
    "percent_nan = 100 * df.isnull().sum()/df.shape[0]\n",
    "percent_nan = percent_nan[percent_nan > 0].sort_values()\n",
    "percent_nan"
   ]
  },
  {
   "cell_type": "code",
   "execution_count": 45,
   "id": "e73c88fe",
   "metadata": {},
   "outputs": [
    {
     "data": {
      "text/plain": [
       "array([0])"
      ]
     },
     "execution_count": 45,
     "metadata": {},
     "output_type": "execute_result"
    }
   ],
   "source": [
    "df[df[\"Fireplace Qu\"].isnull()][\"Fireplaces\"].unique()"
   ]
  },
  {
   "cell_type": "code",
   "execution_count": 46,
   "id": "65d04638",
   "metadata": {},
   "outputs": [],
   "source": [
    "df[\"Fireplace Qu\"]=df[\"Fireplace Qu\"].fillna(\"None\")"
   ]
  },
  {
   "cell_type": "code",
   "execution_count": 47,
   "id": "e3b57e3a",
   "metadata": {},
   "outputs": [
    {
     "data": {
      "text/plain": [
       "Bsmt Qual          2.735043\n",
       "Bsmt Cond          2.735043\n",
       "BsmtFin Type 1     2.735043\n",
       "BsmtFin Type 2     2.769231\n",
       "Bsmt Exposure      2.837607\n",
       "Garage Type        5.367521\n",
       "Garage Yr Blt      5.401709\n",
       "Garage Finish      5.401709\n",
       "Garage Qual        5.401709\n",
       "Garage Cond        5.401709\n",
       "Lot Frontage      16.752137\n",
       "dtype: float64"
      ]
     },
     "execution_count": 47,
     "metadata": {},
     "output_type": "execute_result"
    }
   ],
   "source": [
    "#Computing the percent_nan again\n",
    "percent_nan = 100 * df.isnull().sum()/df.shape[0]\n",
    "percent_nan = percent_nan[percent_nan > 0].sort_values()\n",
    "percent_nan"
   ]
  },
  {
   "cell_type": "code",
   "execution_count": 48,
   "id": "6e7d4ef1",
   "metadata": {},
   "outputs": [],
   "source": [
    "#Basement columns to None\n",
    "basement_to_be_none_columns = [\"Bsmt Qual\", \"Bsmt Cond\", \"BsmtFin Type 1\", \"BsmtFin Type 2\", \"Bsmt Exposure\"]\n",
    "for col in basement_to_be_none_columns:\n",
    "    df[col] = df[col].fillna(\"None\")"
   ]
  },
  {
   "cell_type": "code",
   "execution_count": 49,
   "id": "f04ac866",
   "metadata": {},
   "outputs": [
    {
     "data": {
      "text/plain": [
       "Garage Type       5.367521\n",
       "Garage Yr Blt     5.401709\n",
       "Garage Finish     5.401709\n",
       "Garage Qual       5.401709\n",
       "Garage Cond       5.401709\n",
       "Lot Frontage     16.752137\n",
       "dtype: float64"
      ]
     },
     "execution_count": 49,
     "metadata": {},
     "output_type": "execute_result"
    }
   ],
   "source": [
    "#Computing the percent_nan again\n",
    "percent_nan = 100 * df.isnull().sum()/df.shape[0]\n",
    "percent_nan = percent_nan[percent_nan > 0].sort_values()\n",
    "percent_nan"
   ]
  },
  {
   "cell_type": "code",
   "execution_count": 51,
   "id": "7dbdd400",
   "metadata": {},
   "outputs": [],
   "source": [
    "#A few others are Garage columns\n",
    "#Setting Garatype columns to be \"None\" or 0\n",
    "garage_str_cols = [\"Garage Type\", \"Garage Finish\", \"Garage Qual\" ,\"Garage Cond\"]\n",
    "garage_num_columns = [\"Garage Yr Blt\"]"
   ]
  },
  {
   "cell_type": "code",
   "execution_count": 52,
   "id": "f475395e",
   "metadata": {},
   "outputs": [],
   "source": [
    "for col in garage_str_cols:\n",
    "    df[col] = df[col].fillna(\"None\")"
   ]
  },
  {
   "cell_type": "code",
   "execution_count": 54,
   "id": "622dcb32",
   "metadata": {},
   "outputs": [],
   "source": [
    "df[garage_num_columns]=df[garage_num_columns].fillna(0)"
   ]
  },
  {
   "cell_type": "code",
   "execution_count": 55,
   "id": "4746fdc1",
   "metadata": {},
   "outputs": [
    {
     "data": {
      "text/plain": [
       "Lot Frontage    16.752137\n",
       "dtype: float64"
      ]
     },
     "execution_count": 55,
     "metadata": {},
     "output_type": "execute_result"
    }
   ],
   "source": [
    "#Computing the percent_nan again\n",
    "percent_nan = 100 * df.isnull().sum()/df.shape[0]\n",
    "percent_nan = percent_nan[percent_nan > 0].sort_values()\n",
    "percent_nan"
   ]
  },
  {
   "cell_type": "code",
   "execution_count": null,
   "id": "1db3a196",
   "metadata": {},
   "outputs": [],
   "source": []
  }
 ],
 "metadata": {
  "kernelspec": {
   "display_name": "Python 3 (ipykernel)",
   "language": "python",
   "name": "python3"
  },
  "language_info": {
   "codemirror_mode": {
    "name": "ipython",
    "version": 3
   },
   "file_extension": ".py",
   "mimetype": "text/x-python",
   "name": "python",
   "nbconvert_exporter": "python",
   "pygments_lexer": "ipython3",
   "version": "3.8.8"
  }
 },
 "nbformat": 4,
 "nbformat_minor": 5
}
