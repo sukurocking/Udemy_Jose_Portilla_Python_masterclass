{
 "cells": [
  {
   "cell_type": "code",
   "execution_count": 1,
   "id": "4f29caec",
   "metadata": {},
   "outputs": [],
   "source": [
    "import pandas as pd\n",
    "import numpy as np\n",
    "import seaborn as sns\n",
    "import matplotlib.pyplot as plt"
   ]
  },
  {
   "cell_type": "code",
   "execution_count": 2,
   "id": "54883bc9",
   "metadata": {},
   "outputs": [],
   "source": [
    "df = pd.read_csv('../08-Linear-Regression-Models/Advertising.csv')"
   ]
  },
  {
   "cell_type": "code",
   "execution_count": 3,
   "id": "00c33237",
   "metadata": {},
   "outputs": [
    {
     "data": {
      "text/html": [
       "<div>\n",
       "<style scoped>\n",
       "    .dataframe tbody tr th:only-of-type {\n",
       "        vertical-align: middle;\n",
       "    }\n",
       "\n",
       "    .dataframe tbody tr th {\n",
       "        vertical-align: top;\n",
       "    }\n",
       "\n",
       "    .dataframe thead th {\n",
       "        text-align: right;\n",
       "    }\n",
       "</style>\n",
       "<table border=\"1\" class=\"dataframe\">\n",
       "  <thead>\n",
       "    <tr style=\"text-align: right;\">\n",
       "      <th></th>\n",
       "      <th>TV</th>\n",
       "      <th>radio</th>\n",
       "      <th>newspaper</th>\n",
       "      <th>sales</th>\n",
       "    </tr>\n",
       "  </thead>\n",
       "  <tbody>\n",
       "    <tr>\n",
       "      <th>0</th>\n",
       "      <td>230.1</td>\n",
       "      <td>37.8</td>\n",
       "      <td>69.2</td>\n",
       "      <td>22.1</td>\n",
       "    </tr>\n",
       "    <tr>\n",
       "      <th>1</th>\n",
       "      <td>44.5</td>\n",
       "      <td>39.3</td>\n",
       "      <td>45.1</td>\n",
       "      <td>10.4</td>\n",
       "    </tr>\n",
       "    <tr>\n",
       "      <th>2</th>\n",
       "      <td>17.2</td>\n",
       "      <td>45.9</td>\n",
       "      <td>69.3</td>\n",
       "      <td>9.3</td>\n",
       "    </tr>\n",
       "    <tr>\n",
       "      <th>3</th>\n",
       "      <td>151.5</td>\n",
       "      <td>41.3</td>\n",
       "      <td>58.5</td>\n",
       "      <td>18.5</td>\n",
       "    </tr>\n",
       "    <tr>\n",
       "      <th>4</th>\n",
       "      <td>180.8</td>\n",
       "      <td>10.8</td>\n",
       "      <td>58.4</td>\n",
       "      <td>12.9</td>\n",
       "    </tr>\n",
       "  </tbody>\n",
       "</table>\n",
       "</div>"
      ],
      "text/plain": [
       "      TV  radio  newspaper  sales\n",
       "0  230.1   37.8       69.2   22.1\n",
       "1   44.5   39.3       45.1   10.4\n",
       "2   17.2   45.9       69.3    9.3\n",
       "3  151.5   41.3       58.5   18.5\n",
       "4  180.8   10.8       58.4   12.9"
      ]
     },
     "execution_count": 3,
     "metadata": {},
     "output_type": "execute_result"
    }
   ],
   "source": [
    "df.head()"
   ]
  },
  {
   "cell_type": "code",
   "execution_count": 4,
   "id": "2a544b4e",
   "metadata": {},
   "outputs": [],
   "source": [
    "X = df.drop(\"sales\", axis='columns')\n",
    "y = df[\"sales\"]"
   ]
  },
  {
   "cell_type": "code",
   "execution_count": 5,
   "id": "d50ac65a",
   "metadata": {},
   "outputs": [
    {
     "data": {
      "text/html": [
       "<div>\n",
       "<style scoped>\n",
       "    .dataframe tbody tr th:only-of-type {\n",
       "        vertical-align: middle;\n",
       "    }\n",
       "\n",
       "    .dataframe tbody tr th {\n",
       "        vertical-align: top;\n",
       "    }\n",
       "\n",
       "    .dataframe thead th {\n",
       "        text-align: right;\n",
       "    }\n",
       "</style>\n",
       "<table border=\"1\" class=\"dataframe\">\n",
       "  <thead>\n",
       "    <tr style=\"text-align: right;\">\n",
       "      <th></th>\n",
       "      <th>TV</th>\n",
       "      <th>radio</th>\n",
       "      <th>newspaper</th>\n",
       "    </tr>\n",
       "  </thead>\n",
       "  <tbody>\n",
       "    <tr>\n",
       "      <th>0</th>\n",
       "      <td>230.1</td>\n",
       "      <td>37.8</td>\n",
       "      <td>69.2</td>\n",
       "    </tr>\n",
       "    <tr>\n",
       "      <th>1</th>\n",
       "      <td>44.5</td>\n",
       "      <td>39.3</td>\n",
       "      <td>45.1</td>\n",
       "    </tr>\n",
       "    <tr>\n",
       "      <th>2</th>\n",
       "      <td>17.2</td>\n",
       "      <td>45.9</td>\n",
       "      <td>69.3</td>\n",
       "    </tr>\n",
       "    <tr>\n",
       "      <th>3</th>\n",
       "      <td>151.5</td>\n",
       "      <td>41.3</td>\n",
       "      <td>58.5</td>\n",
       "    </tr>\n",
       "    <tr>\n",
       "      <th>4</th>\n",
       "      <td>180.8</td>\n",
       "      <td>10.8</td>\n",
       "      <td>58.4</td>\n",
       "    </tr>\n",
       "  </tbody>\n",
       "</table>\n",
       "</div>"
      ],
      "text/plain": [
       "      TV  radio  newspaper\n",
       "0  230.1   37.8       69.2\n",
       "1   44.5   39.3       45.1\n",
       "2   17.2   45.9       69.3\n",
       "3  151.5   41.3       58.5\n",
       "4  180.8   10.8       58.4"
      ]
     },
     "execution_count": 5,
     "metadata": {},
     "output_type": "execute_result"
    }
   ],
   "source": [
    "X.head()"
   ]
  },
  {
   "cell_type": "code",
   "execution_count": 6,
   "id": "a30728f3",
   "metadata": {},
   "outputs": [],
   "source": [
    "#Scaling the features\n",
    "from sklearn.preprocessing import StandardScaler"
   ]
  },
  {
   "cell_type": "code",
   "execution_count": 7,
   "id": "49a7063c",
   "metadata": {},
   "outputs": [],
   "source": [
    "scaler = StandardScaler()"
   ]
  },
  {
   "cell_type": "code",
   "execution_count": 8,
   "id": "1c13ff4c",
   "metadata": {},
   "outputs": [],
   "source": [
    "from sklearn.model_selection import train_test_split"
   ]
  },
  {
   "cell_type": "code",
   "execution_count": 9,
   "id": "9c1cd9d0",
   "metadata": {},
   "outputs": [],
   "source": [
    "X_train, X_test, y_train, y_test = train_test_split(X, y, test_size=0.3, random_state=101)"
   ]
  },
  {
   "cell_type": "code",
   "execution_count": 10,
   "id": "a7c03f10",
   "metadata": {},
   "outputs": [],
   "source": [
    "scaler.fit(X_train)\n",
    "X_train = scaler.transform(X_train)\n",
    "X_test = scaler.transform(X_test)"
   ]
  },
  {
   "cell_type": "code",
   "execution_count": 11,
   "id": "a91f2722",
   "metadata": {},
   "outputs": [],
   "source": [
    "#Rough random model\n",
    "from sklearn.linear_model import Ridge"
   ]
  },
  {
   "cell_type": "code",
   "execution_count": 12,
   "id": "fb7d976d",
   "metadata": {},
   "outputs": [],
   "source": [
    "model = Ridge(alpha=100)"
   ]
  },
  {
   "cell_type": "code",
   "execution_count": 13,
   "id": "2703e5fd",
   "metadata": {},
   "outputs": [],
   "source": [
    "from sklearn.model_selection import cross_val_score"
   ]
  },
  {
   "cell_type": "code",
   "execution_count": 14,
   "id": "3ece1565",
   "metadata": {},
   "outputs": [],
   "source": [
    "scores = cross_val_score(model, X_train, y_train, scoring='neg_mean_squared_error')"
   ]
  },
  {
   "cell_type": "code",
   "execution_count": 15,
   "id": "9342c4c8",
   "metadata": {},
   "outputs": [
    {
     "data": {
      "text/plain": [
       "array([ -9.32552967,  -4.9449624 , -11.39665242,  -7.0242106 ,\n",
       "        -8.38562723])"
      ]
     },
     "execution_count": 15,
     "metadata": {},
     "output_type": "execute_result"
    }
   ],
   "source": [
    "scores"
   ]
  },
  {
   "cell_type": "code",
   "execution_count": 16,
   "id": "043fb0b5",
   "metadata": {},
   "outputs": [
    {
     "data": {
      "text/plain": [
       "8.215396464543606"
      ]
     },
     "execution_count": 16,
     "metadata": {},
     "output_type": "execute_result"
    }
   ],
   "source": [
    "abs(scores.mean())"
   ]
  },
  {
   "cell_type": "markdown",
   "id": "0e766f7a",
   "metadata": {},
   "source": [
    "As we can see from above is that the score is not too great, it needs to be improved upon"
   ]
  },
  {
   "cell_type": "code",
   "execution_count": 17,
   "id": "0a564a51",
   "metadata": {},
   "outputs": [],
   "source": [
    "model_two = Ridge(alpha=1)"
   ]
  },
  {
   "cell_type": "code",
   "execution_count": 18,
   "id": "d42347f5",
   "metadata": {},
   "outputs": [],
   "source": [
    "scores = cross_val_score(model_two, X_train, y_train, scoring='neg_mean_squared_error')"
   ]
  },
  {
   "cell_type": "code",
   "execution_count": 19,
   "id": "802cb586",
   "metadata": {},
   "outputs": [
    {
     "data": {
      "text/plain": [
       "array([-3.15513238, -1.58086982, -5.40455562, -2.21654481, -4.36709384])"
      ]
     },
     "execution_count": 19,
     "metadata": {},
     "output_type": "execute_result"
    }
   ],
   "source": [
    "scores"
   ]
  },
  {
   "cell_type": "code",
   "execution_count": 20,
   "id": "6542bb83",
   "metadata": {},
   "outputs": [
    {
     "data": {
      "text/plain": [
       "3.344839296530695"
      ]
     },
     "execution_count": 20,
     "metadata": {},
     "output_type": "execute_result"
    }
   ],
   "source": [
    "abs(scores.mean())"
   ]
  },
  {
   "cell_type": "markdown",
   "id": "debb4bb5",
   "metadata": {},
   "source": [
    "As we can see, the score has improved quite a lot, by _updating_ our alpha value <br>\n",
    "Now, we will use the test dataset, for our reporting purpose"
   ]
  },
  {
   "cell_type": "code",
   "execution_count": 21,
   "id": "89672c80",
   "metadata": {},
   "outputs": [
    {
     "data": {
      "text/plain": [
       "Ridge(alpha=1)"
      ]
     },
     "execution_count": 21,
     "metadata": {},
     "output_type": "execute_result"
    }
   ],
   "source": [
    "model_two.fit(X_train, y_train)"
   ]
  },
  {
   "cell_type": "code",
   "execution_count": 22,
   "id": "b6f38bfa",
   "metadata": {},
   "outputs": [],
   "source": [
    "test_predictions = model_two.predict(X_test)"
   ]
  },
  {
   "cell_type": "code",
   "execution_count": 23,
   "id": "3945e321",
   "metadata": {},
   "outputs": [],
   "source": [
    "from sklearn.metrics import mean_squared_error"
   ]
  },
  {
   "cell_type": "code",
   "execution_count": 24,
   "id": "c3b22d10",
   "metadata": {},
   "outputs": [],
   "source": [
    "MSE = mean_squared_error(y_test, test_predictions)"
   ]
  },
  {
   "cell_type": "code",
   "execution_count": 25,
   "id": "8a88235c",
   "metadata": {},
   "outputs": [
    {
     "data": {
      "text/plain": [
       "2.3190215794287514"
      ]
     },
     "execution_count": 25,
     "metadata": {},
     "output_type": "execute_result"
    }
   ],
   "source": [
    "MSE"
   ]
  },
  {
   "cell_type": "markdown",
   "id": "5ee3cf47",
   "metadata": {},
   "source": [
    "2.32 is our final true error reporting metric, since it was tested on the data that it has never seen before"
   ]
  },
  {
   "cell_type": "code",
   "execution_count": 26,
   "id": "43385d90",
   "metadata": {},
   "outputs": [],
   "source": [
    "from sklearn.model_selection import cross_validate"
   ]
  },
  {
   "cell_type": "code",
   "execution_count": 31,
   "id": "ca08d653",
   "metadata": {},
   "outputs": [],
   "source": [
    "model = Ridge(alpha=100)"
   ]
  },
  {
   "cell_type": "code",
   "execution_count": 35,
   "id": "50271e40",
   "metadata": {},
   "outputs": [
    {
     "data": {
      "text/plain": [
       "{'fit_time': array([0.00228786, 0.00254273, 0.00149202, 0.00195503, 0.00123501,\n",
       "        0.00060105, 0.00047183, 0.00048614, 0.00049615, 0.00049877]),\n",
       " 'score_time': array([0.00149512, 0.00127792, 0.00086021, 0.00089812, 0.00044703,\n",
       "        0.00037193, 0.00037694, 0.00039291, 0.00040483, 0.00038624]),\n",
       " 'test_neg_mean_squared_error': array([ -6.06067062, -10.62703078,  -3.99342608,  -5.00949402,\n",
       "         -9.14179955, -13.08625636,  -3.83940454,  -9.05878567,\n",
       "         -9.05545685,  -5.77888211]),\n",
       " 'test_neg_median_absolute_error': array([-0.95405044, -1.43720847, -0.98266339, -1.57156859, -2.27809665,\n",
       "        -1.78619462, -0.98052783, -2.03771141, -1.95608215, -1.53149549])}"
      ]
     },
     "execution_count": 35,
     "metadata": {},
     "output_type": "execute_result"
    }
   ],
   "source": [
    "scores = cross_validate(model, X_train, y_train, \n",
    "                        scoring=[\"neg_mean_squared_error\",\n",
    "                                 \"neg_median_absolute_error\"], cv=10)\n",
    "scores"
   ]
  },
  {
   "cell_type": "code",
   "execution_count": 36,
   "id": "856ccf7d",
   "metadata": {},
   "outputs": [],
   "source": [
    "scores_df = pd.DataFrame(scores)"
   ]
  },
  {
   "cell_type": "code",
   "execution_count": 37,
   "id": "111de833",
   "metadata": {},
   "outputs": [
    {
     "data": {
      "text/html": [
       "<div>\n",
       "<style scoped>\n",
       "    .dataframe tbody tr th:only-of-type {\n",
       "        vertical-align: middle;\n",
       "    }\n",
       "\n",
       "    .dataframe tbody tr th {\n",
       "        vertical-align: top;\n",
       "    }\n",
       "\n",
       "    .dataframe thead th {\n",
       "        text-align: right;\n",
       "    }\n",
       "</style>\n",
       "<table border=\"1\" class=\"dataframe\">\n",
       "  <thead>\n",
       "    <tr style=\"text-align: right;\">\n",
       "      <th></th>\n",
       "      <th>fit_time</th>\n",
       "      <th>score_time</th>\n",
       "      <th>test_neg_mean_squared_error</th>\n",
       "      <th>test_neg_median_absolute_error</th>\n",
       "    </tr>\n",
       "  </thead>\n",
       "  <tbody>\n",
       "    <tr>\n",
       "      <th>0</th>\n",
       "      <td>0.002288</td>\n",
       "      <td>0.001495</td>\n",
       "      <td>-6.060671</td>\n",
       "      <td>-0.954050</td>\n",
       "    </tr>\n",
       "    <tr>\n",
       "      <th>1</th>\n",
       "      <td>0.002543</td>\n",
       "      <td>0.001278</td>\n",
       "      <td>-10.627031</td>\n",
       "      <td>-1.437208</td>\n",
       "    </tr>\n",
       "    <tr>\n",
       "      <th>2</th>\n",
       "      <td>0.001492</td>\n",
       "      <td>0.000860</td>\n",
       "      <td>-3.993426</td>\n",
       "      <td>-0.982663</td>\n",
       "    </tr>\n",
       "    <tr>\n",
       "      <th>3</th>\n",
       "      <td>0.001955</td>\n",
       "      <td>0.000898</td>\n",
       "      <td>-5.009494</td>\n",
       "      <td>-1.571569</td>\n",
       "    </tr>\n",
       "    <tr>\n",
       "      <th>4</th>\n",
       "      <td>0.001235</td>\n",
       "      <td>0.000447</td>\n",
       "      <td>-9.141800</td>\n",
       "      <td>-2.278097</td>\n",
       "    </tr>\n",
       "    <tr>\n",
       "      <th>5</th>\n",
       "      <td>0.000601</td>\n",
       "      <td>0.000372</td>\n",
       "      <td>-13.086256</td>\n",
       "      <td>-1.786195</td>\n",
       "    </tr>\n",
       "    <tr>\n",
       "      <th>6</th>\n",
       "      <td>0.000472</td>\n",
       "      <td>0.000377</td>\n",
       "      <td>-3.839405</td>\n",
       "      <td>-0.980528</td>\n",
       "    </tr>\n",
       "    <tr>\n",
       "      <th>7</th>\n",
       "      <td>0.000486</td>\n",
       "      <td>0.000393</td>\n",
       "      <td>-9.058786</td>\n",
       "      <td>-2.037711</td>\n",
       "    </tr>\n",
       "    <tr>\n",
       "      <th>8</th>\n",
       "      <td>0.000496</td>\n",
       "      <td>0.000405</td>\n",
       "      <td>-9.055457</td>\n",
       "      <td>-1.956082</td>\n",
       "    </tr>\n",
       "    <tr>\n",
       "      <th>9</th>\n",
       "      <td>0.000499</td>\n",
       "      <td>0.000386</td>\n",
       "      <td>-5.778882</td>\n",
       "      <td>-1.531495</td>\n",
       "    </tr>\n",
       "  </tbody>\n",
       "</table>\n",
       "</div>"
      ],
      "text/plain": [
       "   fit_time  score_time  test_neg_mean_squared_error  \\\n",
       "0  0.002288    0.001495                    -6.060671   \n",
       "1  0.002543    0.001278                   -10.627031   \n",
       "2  0.001492    0.000860                    -3.993426   \n",
       "3  0.001955    0.000898                    -5.009494   \n",
       "4  0.001235    0.000447                    -9.141800   \n",
       "5  0.000601    0.000372                   -13.086256   \n",
       "6  0.000472    0.000377                    -3.839405   \n",
       "7  0.000486    0.000393                    -9.058786   \n",
       "8  0.000496    0.000405                    -9.055457   \n",
       "9  0.000499    0.000386                    -5.778882   \n",
       "\n",
       "   test_neg_median_absolute_error  \n",
       "0                       -0.954050  \n",
       "1                       -1.437208  \n",
       "2                       -0.982663  \n",
       "3                       -1.571569  \n",
       "4                       -2.278097  \n",
       "5                       -1.786195  \n",
       "6                       -0.980528  \n",
       "7                       -2.037711  \n",
       "8                       -1.956082  \n",
       "9                       -1.531495  "
      ]
     },
     "execution_count": 37,
     "metadata": {},
     "output_type": "execute_result"
    }
   ],
   "source": [
    "scores_df"
   ]
  },
  {
   "cell_type": "markdown",
   "id": "bdf4bd83",
   "metadata": {},
   "source": [
    "Here, we can see the benefits of using cross_validate(). This allows us to \n",
    "- Use 2 error metrics at once\n",
    "- Gives the results for both the metrics in the number of folds (number of times, the model has been trained-and-tested) <br>\n",
    "Also, we can see the _error metrics_ are not too good"
   ]
  },
  {
   "cell_type": "code",
   "execution_count": 38,
   "id": "d64eb01b",
   "metadata": {},
   "outputs": [
    {
     "data": {
      "text/plain": [
       "fit_time                          0.001207\n",
       "score_time                        0.000691\n",
       "test_neg_mean_squared_error      -7.565121\n",
       "test_neg_median_absolute_error   -1.551560\n",
       "dtype: float64"
      ]
     },
     "execution_count": 38,
     "metadata": {},
     "output_type": "execute_result"
    }
   ],
   "source": [
    "scores_df.mean()"
   ]
  },
  {
   "cell_type": "code",
   "execution_count": 40,
   "id": "dbdfc8af",
   "metadata": {},
   "outputs": [],
   "source": [
    "#Revising the lambda/alpha of our model\n",
    "model_two = Ridge(alpha=1)"
   ]
  },
  {
   "cell_type": "code",
   "execution_count": 41,
   "id": "bb9c1028",
   "metadata": {},
   "outputs": [],
   "source": [
    "scores = cross_validate(estimator=model_two,X=X_train, y=y_train, cv=10, \n",
    "               scoring=[\"neg_mean_squared_error\",\n",
    "                                 \"neg_median_absolute_error\"])"
   ]
  },
  {
   "cell_type": "code",
   "execution_count": 43,
   "id": "7e9e2dea",
   "metadata": {},
   "outputs": [],
   "source": [
    "scores = pd.DataFrame(scores)"
   ]
  },
  {
   "cell_type": "code",
   "execution_count": 44,
   "id": "a63f7160",
   "metadata": {},
   "outputs": [
    {
     "data": {
      "text/html": [
       "<div>\n",
       "<style scoped>\n",
       "    .dataframe tbody tr th:only-of-type {\n",
       "        vertical-align: middle;\n",
       "    }\n",
       "\n",
       "    .dataframe tbody tr th {\n",
       "        vertical-align: top;\n",
       "    }\n",
       "\n",
       "    .dataframe thead th {\n",
       "        text-align: right;\n",
       "    }\n",
       "</style>\n",
       "<table border=\"1\" class=\"dataframe\">\n",
       "  <thead>\n",
       "    <tr style=\"text-align: right;\">\n",
       "      <th></th>\n",
       "      <th>fit_time</th>\n",
       "      <th>score_time</th>\n",
       "      <th>test_neg_mean_squared_error</th>\n",
       "      <th>test_neg_median_absolute_error</th>\n",
       "    </tr>\n",
       "  </thead>\n",
       "  <tbody>\n",
       "    <tr>\n",
       "      <th>0</th>\n",
       "      <td>0.002350</td>\n",
       "      <td>0.001488</td>\n",
       "      <td>-2.962508</td>\n",
       "      <td>-1.384107</td>\n",
       "    </tr>\n",
       "    <tr>\n",
       "      <th>1</th>\n",
       "      <td>0.002168</td>\n",
       "      <td>0.001255</td>\n",
       "      <td>-3.057378</td>\n",
       "      <td>-1.544264</td>\n",
       "    </tr>\n",
       "    <tr>\n",
       "      <th>2</th>\n",
       "      <td>0.001126</td>\n",
       "      <td>0.000823</td>\n",
       "      <td>-2.173740</td>\n",
       "      <td>-1.195506</td>\n",
       "    </tr>\n",
       "    <tr>\n",
       "      <th>3</th>\n",
       "      <td>0.001310</td>\n",
       "      <td>0.000787</td>\n",
       "      <td>-0.833034</td>\n",
       "      <td>-0.813064</td>\n",
       "    </tr>\n",
       "    <tr>\n",
       "      <th>4</th>\n",
       "      <td>0.000937</td>\n",
       "      <td>0.000800</td>\n",
       "      <td>-3.464018</td>\n",
       "      <td>-1.131223</td>\n",
       "    </tr>\n",
       "    <tr>\n",
       "      <th>5</th>\n",
       "      <td>0.001100</td>\n",
       "      <td>0.000597</td>\n",
       "      <td>-8.232647</td>\n",
       "      <td>-0.438475</td>\n",
       "    </tr>\n",
       "    <tr>\n",
       "      <th>6</th>\n",
       "      <td>0.000631</td>\n",
       "      <td>0.000397</td>\n",
       "      <td>-1.905864</td>\n",
       "      <td>-0.962423</td>\n",
       "    </tr>\n",
       "    <tr>\n",
       "      <th>7</th>\n",
       "      <td>0.000479</td>\n",
       "      <td>0.000375</td>\n",
       "      <td>-2.765048</td>\n",
       "      <td>-0.943862</td>\n",
       "    </tr>\n",
       "    <tr>\n",
       "      <th>8</th>\n",
       "      <td>0.000468</td>\n",
       "      <td>0.000368</td>\n",
       "      <td>-4.989505</td>\n",
       "      <td>-1.177499</td>\n",
       "    </tr>\n",
       "    <tr>\n",
       "      <th>9</th>\n",
       "      <td>0.000460</td>\n",
       "      <td>0.000357</td>\n",
       "      <td>-2.846438</td>\n",
       "      <td>-0.616302</td>\n",
       "    </tr>\n",
       "  </tbody>\n",
       "</table>\n",
       "</div>"
      ],
      "text/plain": [
       "   fit_time  score_time  test_neg_mean_squared_error  \\\n",
       "0  0.002350    0.001488                    -2.962508   \n",
       "1  0.002168    0.001255                    -3.057378   \n",
       "2  0.001126    0.000823                    -2.173740   \n",
       "3  0.001310    0.000787                    -0.833034   \n",
       "4  0.000937    0.000800                    -3.464018   \n",
       "5  0.001100    0.000597                    -8.232647   \n",
       "6  0.000631    0.000397                    -1.905864   \n",
       "7  0.000479    0.000375                    -2.765048   \n",
       "8  0.000468    0.000368                    -4.989505   \n",
       "9  0.000460    0.000357                    -2.846438   \n",
       "\n",
       "   test_neg_median_absolute_error  \n",
       "0                       -1.384107  \n",
       "1                       -1.544264  \n",
       "2                       -1.195506  \n",
       "3                       -0.813064  \n",
       "4                       -1.131223  \n",
       "5                       -0.438475  \n",
       "6                       -0.962423  \n",
       "7                       -0.943862  \n",
       "8                       -1.177499  \n",
       "9                       -0.616302  "
      ]
     },
     "execution_count": 44,
     "metadata": {},
     "output_type": "execute_result"
    }
   ],
   "source": [
    "scores"
   ]
  },
  {
   "cell_type": "code",
   "execution_count": 45,
   "id": "47298f49",
   "metadata": {},
   "outputs": [
    {
     "data": {
      "text/plain": [
       "fit_time                          0.001103\n",
       "score_time                        0.000725\n",
       "test_neg_mean_squared_error      -3.323018\n",
       "test_neg_median_absolute_error   -1.020673\n",
       "dtype: float64"
      ]
     },
     "execution_count": 45,
     "metadata": {},
     "output_type": "execute_result"
    }
   ],
   "source": [
    "scores.mean()"
   ]
  },
  {
   "cell_type": "code",
   "execution_count": 47,
   "id": "814a6ac6",
   "metadata": {},
   "outputs": [
    {
     "data": {
      "text/plain": [
       "Ridge(alpha=1)"
      ]
     },
     "execution_count": 47,
     "metadata": {},
     "output_type": "execute_result"
    }
   ],
   "source": [
    "model_two.fit(X_train,y_train)"
   ]
  },
  {
   "cell_type": "code",
   "execution_count": 48,
   "id": "a4b418b1",
   "metadata": {},
   "outputs": [],
   "source": [
    "test_predictions = model_two.predict(X_test)"
   ]
  },
  {
   "cell_type": "code",
   "execution_count": 49,
   "id": "44bfb21c",
   "metadata": {},
   "outputs": [],
   "source": [
    "MSE = mean_squared_error(y_true=y_test, y_pred=test_predictions)"
   ]
  },
  {
   "cell_type": "code",
   "execution_count": 51,
   "id": "62850f43",
   "metadata": {},
   "outputs": [
    {
     "data": {
      "text/plain": [
       "2.3190215794287514"
      ]
     },
     "execution_count": 51,
     "metadata": {},
     "output_type": "execute_result"
    }
   ],
   "source": [
    "MSE  #### This is our true error reporting metric"
   ]
  },
  {
   "cell_type": "code",
   "execution_count": 52,
   "id": "172103b7",
   "metadata": {},
   "outputs": [
    {
     "data": {
      "text/plain": [
       "['In',\n",
       " 'MSE',\n",
       " 'Out',\n",
       " 'Ridge',\n",
       " 'StandardScaler',\n",
       " 'X',\n",
       " 'X_test',\n",
       " 'X_train',\n",
       " '_',\n",
       " '_15',\n",
       " '_16',\n",
       " '_19',\n",
       " '_20',\n",
       " '_21',\n",
       " '_25',\n",
       " '_28',\n",
       " '_3',\n",
       " '_30',\n",
       " '_32',\n",
       " '_34',\n",
       " '_35',\n",
       " '_37',\n",
       " '_38',\n",
       " '_42',\n",
       " '_44',\n",
       " '_45',\n",
       " '_47',\n",
       " '_5',\n",
       " '_50',\n",
       " '_51',\n",
       " '__',\n",
       " '___',\n",
       " '__builtin__',\n",
       " '__builtins__',\n",
       " '__doc__',\n",
       " '__loader__',\n",
       " '__name__',\n",
       " '__package__',\n",
       " '__spec__',\n",
       " '_dh',\n",
       " '_i',\n",
       " '_i1',\n",
       " '_i10',\n",
       " '_i11',\n",
       " '_i12',\n",
       " '_i13',\n",
       " '_i14',\n",
       " '_i15',\n",
       " '_i16',\n",
       " '_i17',\n",
       " '_i18',\n",
       " '_i19',\n",
       " '_i2',\n",
       " '_i20',\n",
       " '_i21',\n",
       " '_i22',\n",
       " '_i23',\n",
       " '_i24',\n",
       " '_i25',\n",
       " '_i26',\n",
       " '_i27',\n",
       " '_i28',\n",
       " '_i29',\n",
       " '_i3',\n",
       " '_i30',\n",
       " '_i31',\n",
       " '_i32',\n",
       " '_i33',\n",
       " '_i34',\n",
       " '_i35',\n",
       " '_i36',\n",
       " '_i37',\n",
       " '_i38',\n",
       " '_i39',\n",
       " '_i4',\n",
       " '_i40',\n",
       " '_i41',\n",
       " '_i42',\n",
       " '_i43',\n",
       " '_i44',\n",
       " '_i45',\n",
       " '_i46',\n",
       " '_i47',\n",
       " '_i48',\n",
       " '_i49',\n",
       " '_i5',\n",
       " '_i50',\n",
       " '_i51',\n",
       " '_i52',\n",
       " '_i6',\n",
       " '_i7',\n",
       " '_i8',\n",
       " '_i9',\n",
       " '_ih',\n",
       " '_ii',\n",
       " '_iii',\n",
       " '_oh',\n",
       " 'cross_val_score',\n",
       " 'cross_validate',\n",
       " 'df',\n",
       " 'exit',\n",
       " 'get_ipython',\n",
       " 'mean_squared_error',\n",
       " 'model',\n",
       " 'model_two',\n",
       " 'np',\n",
       " 'pd',\n",
       " 'plt',\n",
       " 'quit',\n",
       " 'scaler',\n",
       " 'scores',\n",
       " 'scores_df',\n",
       " 'sns',\n",
       " 'test_predictions',\n",
       " 'train_test_split',\n",
       " 'y',\n",
       " 'y_test',\n",
       " 'y_train']"
      ]
     },
     "execution_count": 52,
     "metadata": {},
     "output_type": "execute_result"
    }
   ],
   "source": [
    "dir()"
   ]
  },
  {
   "cell_type": "code",
   "execution_count": null,
   "id": "07bc5c82",
   "metadata": {},
   "outputs": [],
   "source": []
  }
 ],
 "metadata": {
  "kernelspec": {
   "display_name": "Python 3 (ipykernel)",
   "language": "python",
   "name": "python3"
  },
  "language_info": {
   "codemirror_mode": {
    "name": "ipython",
    "version": 3
   },
   "file_extension": ".py",
   "mimetype": "text/x-python",
   "name": "python",
   "nbconvert_exporter": "python",
   "pygments_lexer": "ipython3",
   "version": "3.8.8"
  }
 },
 "nbformat": 4,
 "nbformat_minor": 5
}
